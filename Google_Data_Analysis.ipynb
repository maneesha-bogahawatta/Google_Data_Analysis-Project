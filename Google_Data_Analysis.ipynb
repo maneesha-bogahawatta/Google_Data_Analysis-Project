{
 "cells": [
  {
   "cell_type": "code",
   "execution_count": 1,
   "id": "9434dfef-425c-4e82-a4e3-b62c6a3df444",
   "metadata": {},
   "outputs": [
    {
     "name": "stdout",
     "output_type": "stream",
     "text": [
      "Requirement already satisfied: pandas in c:\\users\\manee\\anaconda3\\envs\\py312\\lib\\site-packages (2.3.2)\n",
      "Requirement already satisfied: numpy>=1.26.0 in c:\\users\\manee\\anaconda3\\envs\\py312\\lib\\site-packages (from pandas) (2.3.2)\n",
      "Requirement already satisfied: python-dateutil>=2.8.2 in c:\\users\\manee\\anaconda3\\envs\\py312\\lib\\site-packages (from pandas) (2.9.0.post0)\n",
      "Requirement already satisfied: pytz>=2020.1 in c:\\users\\manee\\anaconda3\\envs\\py312\\lib\\site-packages (from pandas) (2025.2)\n",
      "Requirement already satisfied: tzdata>=2022.7 in c:\\users\\manee\\anaconda3\\envs\\py312\\lib\\site-packages (from pandas) (2025.2)\n",
      "Requirement already satisfied: six>=1.5 in c:\\users\\manee\\anaconda3\\envs\\py312\\lib\\site-packages (from python-dateutil>=2.8.2->pandas) (1.17.0)\n",
      "Note: you may need to restart the kernel to use updated packages.\n"
     ]
    }
   ],
   "source": [
    "pip install pandas"
   ]
  },
  {
   "cell_type": "code",
   "execution_count": 2,
   "id": "4ca6b659-1a7b-4753-b847-5f61942e10b8",
   "metadata": {},
   "outputs": [
    {
     "name": "stdout",
     "output_type": "stream",
     "text": [
      "Requirement already satisfied: matplotlib in c:\\users\\manee\\anaconda3\\envs\\py312\\lib\\site-packages (3.10.6)\n",
      "Requirement already satisfied: contourpy>=1.0.1 in c:\\users\\manee\\anaconda3\\envs\\py312\\lib\\site-packages (from matplotlib) (1.3.3)\n",
      "Requirement already satisfied: cycler>=0.10 in c:\\users\\manee\\anaconda3\\envs\\py312\\lib\\site-packages (from matplotlib) (0.12.1)\n",
      "Requirement already satisfied: fonttools>=4.22.0 in c:\\users\\manee\\anaconda3\\envs\\py312\\lib\\site-packages (from matplotlib) (4.59.2)\n",
      "Requirement already satisfied: kiwisolver>=1.3.1 in c:\\users\\manee\\anaconda3\\envs\\py312\\lib\\site-packages (from matplotlib) (1.4.9)\n",
      "Requirement already satisfied: numpy>=1.23 in c:\\users\\manee\\anaconda3\\envs\\py312\\lib\\site-packages (from matplotlib) (2.3.2)\n",
      "Requirement already satisfied: packaging>=20.0 in c:\\users\\manee\\anaconda3\\envs\\py312\\lib\\site-packages (from matplotlib) (25.0)\n",
      "Requirement already satisfied: pillow>=8 in c:\\users\\manee\\anaconda3\\envs\\py312\\lib\\site-packages (from matplotlib) (11.3.0)\n",
      "Requirement already satisfied: pyparsing>=2.3.1 in c:\\users\\manee\\anaconda3\\envs\\py312\\lib\\site-packages (from matplotlib) (3.2.3)\n",
      "Requirement already satisfied: python-dateutil>=2.7 in c:\\users\\manee\\anaconda3\\envs\\py312\\lib\\site-packages (from matplotlib) (2.9.0.post0)\n",
      "Requirement already satisfied: six>=1.5 in c:\\users\\manee\\anaconda3\\envs\\py312\\lib\\site-packages (from python-dateutil>=2.7->matplotlib) (1.17.0)\n",
      "Note: you may need to restart the kernel to use updated packages.\n"
     ]
    }
   ],
   "source": [
    "pip install matplotlib"
   ]
  },
  {
   "cell_type": "code",
   "execution_count": 3,
   "id": "bc385e03-48f1-4f1a-a6f9-63492811fc14",
   "metadata": {},
   "outputs": [
    {
     "name": "stdout",
     "output_type": "stream",
     "text": [
      "Requirement already satisfied: seaborn in c:\\users\\manee\\anaconda3\\envs\\py312\\lib\\site-packages (0.13.2)\n",
      "Requirement already satisfied: numpy!=1.24.0,>=1.20 in c:\\users\\manee\\anaconda3\\envs\\py312\\lib\\site-packages (from seaborn) (2.3.2)\n",
      "Requirement already satisfied: pandas>=1.2 in c:\\users\\manee\\anaconda3\\envs\\py312\\lib\\site-packages (from seaborn) (2.3.2)\n",
      "Requirement already satisfied: matplotlib!=3.6.1,>=3.4 in c:\\users\\manee\\anaconda3\\envs\\py312\\lib\\site-packages (from seaborn) (3.10.6)\n",
      "Requirement already satisfied: contourpy>=1.0.1 in c:\\users\\manee\\anaconda3\\envs\\py312\\lib\\site-packages (from matplotlib!=3.6.1,>=3.4->seaborn) (1.3.3)\n",
      "Requirement already satisfied: cycler>=0.10 in c:\\users\\manee\\anaconda3\\envs\\py312\\lib\\site-packages (from matplotlib!=3.6.1,>=3.4->seaborn) (0.12.1)\n",
      "Requirement already satisfied: fonttools>=4.22.0 in c:\\users\\manee\\anaconda3\\envs\\py312\\lib\\site-packages (from matplotlib!=3.6.1,>=3.4->seaborn) (4.59.2)\n",
      "Requirement already satisfied: kiwisolver>=1.3.1 in c:\\users\\manee\\anaconda3\\envs\\py312\\lib\\site-packages (from matplotlib!=3.6.1,>=3.4->seaborn) (1.4.9)\n",
      "Requirement already satisfied: packaging>=20.0 in c:\\users\\manee\\anaconda3\\envs\\py312\\lib\\site-packages (from matplotlib!=3.6.1,>=3.4->seaborn) (25.0)\n",
      "Requirement already satisfied: pillow>=8 in c:\\users\\manee\\anaconda3\\envs\\py312\\lib\\site-packages (from matplotlib!=3.6.1,>=3.4->seaborn) (11.3.0)\n",
      "Requirement already satisfied: pyparsing>=2.3.1 in c:\\users\\manee\\anaconda3\\envs\\py312\\lib\\site-packages (from matplotlib!=3.6.1,>=3.4->seaborn) (3.2.3)\n",
      "Requirement already satisfied: python-dateutil>=2.7 in c:\\users\\manee\\anaconda3\\envs\\py312\\lib\\site-packages (from matplotlib!=3.6.1,>=3.4->seaborn) (2.9.0.post0)\n",
      "Requirement already satisfied: pytz>=2020.1 in c:\\users\\manee\\anaconda3\\envs\\py312\\lib\\site-packages (from pandas>=1.2->seaborn) (2025.2)\n",
      "Requirement already satisfied: tzdata>=2022.7 in c:\\users\\manee\\anaconda3\\envs\\py312\\lib\\site-packages (from pandas>=1.2->seaborn) (2025.2)\n",
      "Requirement already satisfied: six>=1.5 in c:\\users\\manee\\anaconda3\\envs\\py312\\lib\\site-packages (from python-dateutil>=2.7->matplotlib!=3.6.1,>=3.4->seaborn) (1.17.0)\n",
      "Note: you may need to restart the kernel to use updated packages.\n"
     ]
    }
   ],
   "source": [
    "pip install seaborn"
   ]
  },
  {
   "cell_type": "code",
   "execution_count": 4,
   "id": "99f34499-8bab-4d0f-9a73-c73468b7361d",
   "metadata": {},
   "outputs": [
    {
     "name": "stdout",
     "output_type": "stream",
     "text": [
      "Requirement already satisfied: plotly in c:\\users\\manee\\anaconda3\\envs\\py312\\lib\\site-packages (6.3.0)\n",
      "Requirement already satisfied: narwhals>=1.15.1 in c:\\users\\manee\\anaconda3\\envs\\py312\\lib\\site-packages (from plotly) (2.3.0)\n",
      "Requirement already satisfied: packaging in c:\\users\\manee\\anaconda3\\envs\\py312\\lib\\site-packages (from plotly) (25.0)\n",
      "Note: you may need to restart the kernel to use updated packages.\n"
     ]
    }
   ],
   "source": [
    "pip install plotly"
   ]
  },
  {
   "cell_type": "code",
   "execution_count": null,
   "id": "ed4c8bd7-b61a-4a58-8f9a-4353d9cc7b5c",
   "metadata": {},
   "outputs": [],
   "source": [
    "pip install pytrends"
   ]
  },
  {
   "cell_type": "code",
   "execution_count": 3,
   "id": "8346f3b6-8fbd-45e3-bf42-38b0c29776b6",
   "metadata": {},
   "outputs": [
    {
     "name": "stdout",
     "output_type": "stream",
     "text": [
      "Collecting pycountry\n",
      "  Using cached pycountry-24.6.1-py3-none-any.whl.metadata (12 kB)\n",
      "Using cached pycountry-24.6.1-py3-none-any.whl (6.3 MB)\n",
      "Installing collected packages: pycountry\n",
      "Successfully installed pycountry-24.6.1\n"
     ]
    }
   ],
   "source": [
    "! pip install pycountry\n",
    "#convert country names to ISO-3 codes"
   ]
  },
  {
   "cell_type": "markdown",
   "id": "ca87c097-c063-4208-a124-805d31fd02c3",
   "metadata": {},
   "source": [
    "Step 1 - Imports"
   ]
  },
  {
   "cell_type": "code",
   "execution_count": 5,
   "id": "2d74721a-cc75-42f7-af0c-989e203e7ef2",
   "metadata": {},
   "outputs": [],
   "source": [
    "import time\n",
    "import pycountry\n",
    "import matplotlib.pyplot as plt\n",
    "import plotly.express as px\n",
    "from pytrends.request import TrendReq\n",
    "from pytrends.exceptions import TooManyRequestsError\n",
    "\n",
    "%matplotlib inline  \n"
   ]
  },
  {
   "cell_type": "markdown",
   "id": "9f97a443-4abe-4fe7-9358-399318f97e26",
   "metadata": {},
   "source": [
    "Step 2: Safe request function"
   ]
  },
  {
   "cell_type": "code",
   "execution_count": 6,
   "id": "3c1a7a0a-84dc-4d3b-8500-8ee9df9ad4cd",
   "metadata": {},
   "outputs": [],
   "source": [
    "def safe_pytrends_request(func, retries=5, wait=60):\n",
    "    \"\"\"\n",
    "    Safely call a pytrends function with automatic retry on 429 errors.\n",
    "    \"\"\"\n",
    "    for attempt in range(retries):\n",
    "        try:\n",
    "            df = func()\n",
    "            if df.empty:\n",
    "                print(\"Warning: returned DataFrame is empty.\")\n",
    "            return df\n",
    "        except TooManyRequestsError:\n",
    "            print(f\"429 error detected → waiting {wait} seconds...\")\n",
    "            time.sleep(wait)\n",
    "            wait *= 2  # exponential backoff\n",
    "    raise Exception(\"Too many retries, Google keeps blocking requests\")\n"
   ]
  },
  {
   "cell_type": "markdown",
   "id": "0d8f1e9a-c452-49f9-aed5-4cc8403e4999",
   "metadata": {},
   "source": [
    "Step 3: Initialize pytrends"
   ]
  },
  {
   "cell_type": "code",
   "execution_count": 7,
   "id": "8aeccc4b-7a7d-42e3-954b-cb98c45b8465",
   "metadata": {},
   "outputs": [],
   "source": [
    "# Initialize pytrends\n",
    "pytrends = TrendReq(hl='en-US', tz=360)\n",
    "\n",
    "# List your keywords\n",
    "keywords = [\"cloud computing\", \"AI\", \"data science\"]\n",
    "\n",
    "# Build payload (one at a time or up to 5 keywords)\n",
    "pytrends.build_payload(keywords, timeframe='today 12-m')\n"
   ]
  },
  {
   "cell_type": "markdown",
   "id": "d9cf13d3-b65a-4b0e-80af-f279b47dbb31",
   "metadata": {},
   "source": [
    "Step 4: Fetch interest over time"
   ]
  },
  {
   "cell_type": "code",
   "execution_count": null,
   "id": "8fa1604e-efe4-4985-a64e-5de07bd5f644",
   "metadata": {},
   "outputs": [
    {
     "name": "stdout",
     "output_type": "stream",
     "text": [
      "429 error detected → waiting 60 seconds...\n",
      "429 error detected → waiting 120 seconds...\n",
      "429 error detected → waiting 240 seconds...\n"
     ]
    }
   ],
   "source": [
    "time_df = safe_pytrends_request(pytrends.interest_over_time)\n",
    "print(time_df.head())\n"
   ]
  },
  {
   "cell_type": "markdown",
   "id": "7e68e91c-6469-4bfb-bfe1-03b096cca815",
   "metadata": {},
   "source": [
    "Step 5: Plot time series for each keyword"
   ]
  },
  {
   "cell_type": "code",
   "execution_count": null,
   "id": "c51e0903-4773-4082-832b-8a403cc8cf9d",
   "metadata": {},
   "outputs": [],
   "source": [
    "plt.figure(figsize=(12,6))\n",
    "\n",
    "for kw in keywords:\n",
    "    if kw in time_df.columns:\n",
    "        plt.plot(time_df.index, time_df[kw], marker='o', label=kw)\n",
    "\n",
    "plt.title(\"Search Interest Over Time\")\n",
    "plt.xlabel(\"Date\")\n",
    "plt.ylabel(\"Interest\")\n",
    "plt.legend()\n",
    "plt.grid(True)\n",
    "plt.tight_layout()\n",
    "plt.show()\n"
   ]
  },
  {
   "cell_type": "markdown",
   "id": "7f31149b-6de5-4907-8b5e-94fb285b0888",
   "metadata": {},
   "source": [
    "Step 6: Fetch interest by region"
   ]
  },
  {
   "cell_type": "code",
   "execution_count": null,
   "id": "d3227350-b9ac-4168-876a-055eec32cfca",
   "metadata": {},
   "outputs": [],
   "source": [
    "region_df = safe_pytrends_request(pytrends.interest_by_region)\n",
    "region_df = region_df.reset_index(names='geoName')\n",
    "print(region_df.head())\n"
   ]
  },
  {
   "cell_type": "markdown",
   "id": "e973e281-bc83-4ca6-bbca-0d0c1b9e60a0",
   "metadata": {},
   "source": [
    "Step 7: Convert country names to ISO-3 codes"
   ]
  },
  {
   "cell_type": "code",
   "execution_count": null,
   "id": "0117e64b-50af-4b33-9479-093a02a666c1",
   "metadata": {},
   "outputs": [],
   "source": [
    "def country_to_iso3(name):\n",
    "    try:\n",
    "        return pycountry.countries.lookup(name).alpha_3\n",
    "    except:\n",
    "        return None\n",
    "\n",
    "region_df['iso_alpha'] = region_df['geoName'].apply(country_to_iso3)\n",
    "region_df = region_df.dropna(subset=['iso_alpha']).copy()\n"
   ]
  },
  {
   "cell_type": "markdown",
   "id": "5b4b4ebf-1da8-4425-9744-6c37670e0b80",
   "metadata": {},
   "source": [
    "Step 8: Plot interactive choropleth map"
   ]
  },
  {
   "cell_type": "code",
   "execution_count": null,
   "id": "b1dd81f9-a4b3-4137-a86d-bea00753fecf",
   "metadata": {},
   "outputs": [],
   "source": [
    "# Example: plot first keyword\n",
    "keyword = keywords[0]\n",
    "\n",
    "fig = px.choropleth(\n",
    "    region_df,\n",
    "    locations='iso_alpha',\n",
    "    locationmode='ISO-3',\n",
    "    color=keyword,\n",
    "    hover_name='geoName',\n",
    "    title=f\"Search Interest for '{keyword}' by Country\",\n",
    "    color_continuous_scale='Blues'\n",
    ")\n",
    "fig.show()\n"
   ]
  },
  {
   "cell_type": "code",
   "execution_count": null,
   "id": "b9d7b957-30f4-4a9c-8808-c1772f96eb94",
   "metadata": {},
   "outputs": [],
   "source": []
  }
 ],
 "metadata": {
  "kernelspec": {
   "display_name": "Python 3.12",
   "language": "python",
   "name": "py312"
  },
  "language_info": {
   "codemirror_mode": {
    "name": "ipython",
    "version": 3
   },
   "file_extension": ".py",
   "mimetype": "text/x-python",
   "name": "python",
   "nbconvert_exporter": "python",
   "pygments_lexer": "ipython3",
   "version": "3.12.11"
  }
 },
 "nbformat": 4,
 "nbformat_minor": 5
}
